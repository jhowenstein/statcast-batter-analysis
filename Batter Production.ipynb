{
 "cells": [
  {
   "cell_type": "code",
   "execution_count": 1,
   "metadata": {},
   "outputs": [],
   "source": [
    "import numpy as np\n",
    "import pandas as pd\n",
    "\n",
    "import os\n",
    "import glob\n",
    "\n",
    "import matplotlib.pyplot as plt\n",
    "\n",
    "from statcast_batter_analysis import Batter,Game,AtBat"
   ]
  },
  {
   "cell_type": "code",
   "execution_count": 2,
   "metadata": {},
   "outputs": [],
   "source": [
    "df = pd.read_csv('Data/2021/Cardinals.csv')\n",
    "#df = pd.read_csv('Data/aggregated-data.csv')"
   ]
  },
  {
   "cell_type": "code",
   "execution_count": 3,
   "metadata": {},
   "outputs": [
    {
     "data": {
      "text/plain": [
       "(18293, 92)"
      ]
     },
     "execution_count": 3,
     "metadata": {},
     "output_type": "execute_result"
    }
   ],
   "source": [
    "df.shape"
   ]
  },
  {
   "cell_type": "code",
   "execution_count": 4,
   "metadata": {
    "scrolled": false
   },
   "outputs": [],
   "source": [
    "df = df.rename(columns={'events':'event_result','description':'event'})"
   ]
  },
  {
   "cell_type": "code",
   "execution_count": 5,
   "metadata": {},
   "outputs": [],
   "source": [
    "excluded_events = ['foul_bunt','missed_bunt','hit_by_pitch','bunt_foul_tip']"
   ]
  },
  {
   "cell_type": "code",
   "execution_count": 6,
   "metadata": {},
   "outputs": [],
   "source": [
    "excluded_results = ['hit_by_pitch','sac_bunt','catcher_interf']"
   ]
  },
  {
   "cell_type": "code",
   "execution_count": 7,
   "metadata": {},
   "outputs": [
    {
     "data": {
      "text/plain": [
       "(18293, 92)"
      ]
     },
     "execution_count": 7,
     "metadata": {},
     "output_type": "execute_result"
    }
   ],
   "source": [
    "df.shape"
   ]
  },
  {
   "cell_type": "code",
   "execution_count": 8,
   "metadata": {},
   "outputs": [],
   "source": [
    "for event in excluded_events:\n",
    "    df = df[df['event']!=event]"
   ]
  },
  {
   "cell_type": "code",
   "execution_count": 9,
   "metadata": {},
   "outputs": [],
   "source": [
    "for result in excluded_results:\n",
    "    df = df[df['event_result']!=result]"
   ]
  },
  {
   "cell_type": "code",
   "execution_count": 10,
   "metadata": {},
   "outputs": [
    {
     "data": {
      "text/plain": [
       "(18130, 92)"
      ]
     },
     "execution_count": 10,
     "metadata": {},
     "output_type": "execute_result"
    }
   ],
   "source": [
    "df.shape"
   ]
  },
  {
   "cell_type": "code",
   "execution_count": 11,
   "metadata": {},
   "outputs": [
    {
     "data": {
      "text/html": [
       "<div>\n",
       "<style scoped>\n",
       "    .dataframe tbody tr th:only-of-type {\n",
       "        vertical-align: middle;\n",
       "    }\n",
       "\n",
       "    .dataframe tbody tr th {\n",
       "        vertical-align: top;\n",
       "    }\n",
       "\n",
       "    .dataframe thead th {\n",
       "        text-align: right;\n",
       "    }\n",
       "</style>\n",
       "<table border=\"1\" class=\"dataframe\">\n",
       "  <thead>\n",
       "    <tr style=\"text-align: right;\">\n",
       "      <th></th>\n",
       "      <th>pitch_type</th>\n",
       "      <th>game_date</th>\n",
       "      <th>release_speed</th>\n",
       "      <th>release_pos_x</th>\n",
       "      <th>release_pos_z</th>\n",
       "      <th>player_name</th>\n",
       "      <th>batter</th>\n",
       "      <th>pitcher</th>\n",
       "      <th>event_result</th>\n",
       "      <th>event</th>\n",
       "      <th>...</th>\n",
       "      <th>fld_score</th>\n",
       "      <th>post_away_score</th>\n",
       "      <th>post_home_score</th>\n",
       "      <th>post_bat_score</th>\n",
       "      <th>post_fld_score</th>\n",
       "      <th>if_fielding_alignment</th>\n",
       "      <th>of_fielding_alignment</th>\n",
       "      <th>spin_axis</th>\n",
       "      <th>delta_home_win_exp</th>\n",
       "      <th>delta_run_exp</th>\n",
       "    </tr>\n",
       "  </thead>\n",
       "  <tbody>\n",
       "    <tr>\n",
       "      <th>0</th>\n",
       "      <td>SI</td>\n",
       "      <td>2021-08-27</td>\n",
       "      <td>90.3</td>\n",
       "      <td>1.57</td>\n",
       "      <td>5.63</td>\n",
       "      <td>O'Neill, Tyler</td>\n",
       "      <td>641933</td>\n",
       "      <td>596071</td>\n",
       "      <td>field_out</td>\n",
       "      <td>hit_into_play</td>\n",
       "      <td>...</td>\n",
       "      <td>0</td>\n",
       "      <td>3</td>\n",
       "      <td>0</td>\n",
       "      <td>3</td>\n",
       "      <td>0</td>\n",
       "      <td>Standard</td>\n",
       "      <td>Standard</td>\n",
       "      <td>159.0</td>\n",
       "      <td>0.018</td>\n",
       "      <td>-0.294</td>\n",
       "    </tr>\n",
       "    <tr>\n",
       "      <th>1</th>\n",
       "      <td>CH</td>\n",
       "      <td>2021-08-27</td>\n",
       "      <td>83.1</td>\n",
       "      <td>1.54</td>\n",
       "      <td>5.65</td>\n",
       "      <td>O'Neill, Tyler</td>\n",
       "      <td>641933</td>\n",
       "      <td>596071</td>\n",
       "      <td>NaN</td>\n",
       "      <td>swinging_strike</td>\n",
       "      <td>...</td>\n",
       "      <td>0</td>\n",
       "      <td>3</td>\n",
       "      <td>0</td>\n",
       "      <td>3</td>\n",
       "      <td>0</td>\n",
       "      <td>Standard</td>\n",
       "      <td>Standard</td>\n",
       "      <td>136.0</td>\n",
       "      <td>0.000</td>\n",
       "      <td>-0.056</td>\n",
       "    </tr>\n",
       "    <tr>\n",
       "      <th>2</th>\n",
       "      <td>CH</td>\n",
       "      <td>2021-08-27</td>\n",
       "      <td>82.6</td>\n",
       "      <td>1.62</td>\n",
       "      <td>5.64</td>\n",
       "      <td>O'Neill, Tyler</td>\n",
       "      <td>641933</td>\n",
       "      <td>596071</td>\n",
       "      <td>NaN</td>\n",
       "      <td>ball</td>\n",
       "      <td>...</td>\n",
       "      <td>0</td>\n",
       "      <td>3</td>\n",
       "      <td>0</td>\n",
       "      <td>3</td>\n",
       "      <td>0</td>\n",
       "      <td>Standard</td>\n",
       "      <td>Standard</td>\n",
       "      <td>135.0</td>\n",
       "      <td>0.000</td>\n",
       "      <td>0.024</td>\n",
       "    </tr>\n",
       "    <tr>\n",
       "      <th>3</th>\n",
       "      <td>SI</td>\n",
       "      <td>2021-08-27</td>\n",
       "      <td>90.2</td>\n",
       "      <td>1.56</td>\n",
       "      <td>5.63</td>\n",
       "      <td>Goldschmidt, Paul</td>\n",
       "      <td>502671</td>\n",
       "      <td>596071</td>\n",
       "      <td>double</td>\n",
       "      <td>hit_into_play</td>\n",
       "      <td>...</td>\n",
       "      <td>0</td>\n",
       "      <td>3</td>\n",
       "      <td>0</td>\n",
       "      <td>3</td>\n",
       "      <td>0</td>\n",
       "      <td>Standard</td>\n",
       "      <td>Standard</td>\n",
       "      <td>155.0</td>\n",
       "      <td>-0.013</td>\n",
       "      <td>0.224</td>\n",
       "    </tr>\n",
       "    <tr>\n",
       "      <th>4</th>\n",
       "      <td>SI</td>\n",
       "      <td>2021-08-27</td>\n",
       "      <td>90.3</td>\n",
       "      <td>1.44</td>\n",
       "      <td>5.61</td>\n",
       "      <td>Edman, Tommy</td>\n",
       "      <td>669242</td>\n",
       "      <td>596071</td>\n",
       "      <td>home_run</td>\n",
       "      <td>hit_into_play</td>\n",
       "      <td>...</td>\n",
       "      <td>0</td>\n",
       "      <td>3</td>\n",
       "      <td>0</td>\n",
       "      <td>3</td>\n",
       "      <td>0</td>\n",
       "      <td>Standard</td>\n",
       "      <td>Standard</td>\n",
       "      <td>161.0</td>\n",
       "      <td>-0.192</td>\n",
       "      <td>1.734</td>\n",
       "    </tr>\n",
       "  </tbody>\n",
       "</table>\n",
       "<p>5 rows × 92 columns</p>\n",
       "</div>"
      ],
      "text/plain": [
       "  pitch_type   game_date  release_speed  release_pos_x  release_pos_z  \\\n",
       "0         SI  2021-08-27           90.3           1.57           5.63   \n",
       "1         CH  2021-08-27           83.1           1.54           5.65   \n",
       "2         CH  2021-08-27           82.6           1.62           5.64   \n",
       "3         SI  2021-08-27           90.2           1.56           5.63   \n",
       "4         SI  2021-08-27           90.3           1.44           5.61   \n",
       "\n",
       "         player_name  batter  pitcher event_result            event  ...  \\\n",
       "0     O'Neill, Tyler  641933   596071    field_out    hit_into_play  ...   \n",
       "1     O'Neill, Tyler  641933   596071          NaN  swinging_strike  ...   \n",
       "2     O'Neill, Tyler  641933   596071          NaN             ball  ...   \n",
       "3  Goldschmidt, Paul  502671   596071       double    hit_into_play  ...   \n",
       "4       Edman, Tommy  669242   596071     home_run    hit_into_play  ...   \n",
       "\n",
       "   fld_score  post_away_score  post_home_score  post_bat_score  \\\n",
       "0          0                3                0               3   \n",
       "1          0                3                0               3   \n",
       "2          0                3                0               3   \n",
       "3          0                3                0               3   \n",
       "4          0                3                0               3   \n",
       "\n",
       "   post_fld_score if_fielding_alignment of_fielding_alignment spin_axis  \\\n",
       "0               0              Standard              Standard     159.0   \n",
       "1               0              Standard              Standard     136.0   \n",
       "2               0              Standard              Standard     135.0   \n",
       "3               0              Standard              Standard     155.0   \n",
       "4               0              Standard              Standard     161.0   \n",
       "\n",
       "  delta_home_win_exp delta_run_exp  \n",
       "0              0.018        -0.294  \n",
       "1              0.000        -0.056  \n",
       "2              0.000         0.024  \n",
       "3             -0.013         0.224  \n",
       "4             -0.192         1.734  \n",
       "\n",
       "[5 rows x 92 columns]"
      ]
     },
     "execution_count": 11,
     "metadata": {},
     "output_type": "execute_result"
    }
   ],
   "source": [
    "df.head()"
   ]
  },
  {
   "cell_type": "code",
   "execution_count": 12,
   "metadata": {},
   "outputs": [
    {
     "data": {
      "text/plain": [
       "Index(['pitch_type', 'game_date', 'release_speed', 'release_pos_x',\n",
       "       'release_pos_z', 'player_name', 'batter', 'pitcher', 'event_result',\n",
       "       'event', 'spin_dir', 'spin_rate_deprecated', 'break_angle_deprecated',\n",
       "       'break_length_deprecated', 'zone', 'des', 'game_type', 'stand',\n",
       "       'p_throws', 'home_team', 'away_team', 'type', 'hit_location', 'bb_type',\n",
       "       'balls', 'strikes', 'game_year', 'pfx_x', 'pfx_z', 'plate_x', 'plate_z',\n",
       "       'on_3b', 'on_2b', 'on_1b', 'outs_when_up', 'inning', 'inning_topbot',\n",
       "       'hc_x', 'hc_y', 'tfs_deprecated', 'tfs_zulu_deprecated', 'fielder_2',\n",
       "       'umpire', 'sv_id', 'vx0', 'vy0', 'vz0', 'ax', 'ay', 'az', 'sz_top',\n",
       "       'sz_bot', 'hit_distance_sc', 'launch_speed', 'launch_angle',\n",
       "       'effective_speed', 'release_spin_rate', 'release_extension', 'game_pk',\n",
       "       'pitcher.1', 'fielder_2.1', 'fielder_3', 'fielder_4', 'fielder_5',\n",
       "       'fielder_6', 'fielder_7', 'fielder_8', 'fielder_9', 'release_pos_y',\n",
       "       'estimated_ba_using_speedangle', 'estimated_woba_using_speedangle',\n",
       "       'woba_value', 'woba_denom', 'babip_value', 'iso_value',\n",
       "       'launch_speed_angle', 'at_bat_number', 'pitch_number', 'pitch_name',\n",
       "       'home_score', 'away_score', 'bat_score', 'fld_score', 'post_away_score',\n",
       "       'post_home_score', 'post_bat_score', 'post_fld_score',\n",
       "       'if_fielding_alignment', 'of_fielding_alignment', 'spin_axis',\n",
       "       'delta_home_win_exp', 'delta_run_exp'],\n",
       "      dtype='object')"
      ]
     },
     "execution_count": 12,
     "metadata": {},
     "output_type": "execute_result"
    }
   ],
   "source": [
    "df.keys()"
   ]
  },
  {
   "cell_type": "code",
   "execution_count": 13,
   "metadata": {},
   "outputs": [],
   "source": [
    "woba_df = df[df['woba_denom']==1]"
   ]
  },
  {
   "cell_type": "code",
   "execution_count": 16,
   "metadata": {},
   "outputs": [
    {
     "data": {
      "text/plain": [
       "0.3100655021834061"
      ]
     },
     "execution_count": 16,
     "metadata": {},
     "output_type": "execute_result"
    }
   ],
   "source": [
    "woba_df['woba_value'].mean()"
   ]
  },
  {
   "cell_type": "code",
   "execution_count": null,
   "metadata": {
    "scrolled": true
   },
   "outputs": [],
   "source": [
    "batters = []\n",
    "for player in players:\n",
    "    print(player)\n",
    "    player_df = df[df['player_name']==player]\n",
    "    print(player_df.shape)\n",
    "    batter = Batter(player,player_df,process_games=False)\n",
    "    \n",
    "    batters.append(batter)"
   ]
  },
  {
   "cell_type": "code",
   "execution_count": null,
   "metadata": {},
   "outputs": [],
   "source": [
    "def sortFunc(x):\n",
    "    return x.data.shape[0]\n",
    "\n",
    "batters.sort(reverse=True,key=sortFunc)"
   ]
  },
  {
   "cell_type": "code",
   "execution_count": null,
   "metadata": {
    "scrolled": true
   },
   "outputs": [],
   "source": [
    "for batter in batters[:12]:\n",
    "    \n",
    "    BL = (batter.sz_left,batter.sz_btm)\n",
    "    TL = (batter.sz_left,batter.sz_top)\n",
    "    TR = (batter.sz_right,batter.sz_top)\n",
    "    BR = (batter.sz_right,batter.sz_btm)\n",
    "    \n",
    "    batter_correct = batter.data[batter.data['isCorrectDecision']==True]\n",
    "    batter_incorrect = batter.data[batter.data['isCorrectDecision']==False]\n",
    "    \n",
    "    not_strike_df = batter.data[batter.data['isStrike']==False]\n",
    "    \n",
    "    correct_count = not_strike_df['isCorrectDecision'].value_counts()[True]\n",
    "    incorrect_count = not_strike_df['isCorrectDecision'].value_counts()[False]\n",
    "    \n",
    "    correct_percent = (correct_count / not_strike_df.shape[0] * 100).round(1)\n",
    "    \n",
    "    fig,ax = plt.subplots(figsize=(10,10))\n",
    "    \n",
    "    ax.set_title(f'{batter} - Correct Percent: {correct_percent}')\n",
    "\n",
    "    x = [it[0] for it in (BL,TL,TR,BR,BL)]\n",
    "    y = [it[1] for it in (BL,TL,TR,BR,BL)]\n",
    "\n",
    "    ax.plot(x,y,color='k')\n",
    "\n",
    "    ax.plot([batter.sz_left,batter.sz_right],[batter.sz_mid_btm,batter.sz_mid_btm],color='k',alpha=.5)\n",
    "    ax.plot([batter.sz_left,batter.sz_right],[batter.sz_mid_top,batter.sz_mid_top],color='k',alpha=.5)\n",
    "\n",
    "    ax.plot([batter.sz_mid_left,batter.sz_mid_left],[batter.sz_top,batter.sz_btm],color='k',alpha=.5)\n",
    "    ax.plot([batter.sz_mid_right,batter.sz_mid_right],[batter.sz_top,batter.sz_btm],color='k',alpha=.5)\n",
    "\n",
    "    ax.scatter(batter_correct['norm_plate_x'],batter_correct['plate_z'],color='tab:blue',alpha=.3)\n",
    "    ax.scatter(batter_incorrect['norm_plate_x'],batter_incorrect['plate_z'],color='tab:red',alpha=.3)\n",
    "\n",
    "    ax.grid()\n",
    "\n",
    "    ax.set_xlim(-3,3)\n",
    "    ax.set_ylim(0,6)\n",
    "    plt.show()"
   ]
  },
  {
   "cell_type": "code",
   "execution_count": null,
   "metadata": {
    "scrolled": true
   },
   "outputs": [],
   "source": [
    "for batter in batters[:12]:\n",
    "    \n",
    "    BL = (batter.sz_left,batter.sz_btm)\n",
    "    TL = (batter.sz_left,batter.sz_top)\n",
    "    TR = (batter.sz_right,batter.sz_top)\n",
    "    BR = (batter.sz_right,batter.sz_btm)\n",
    "    \n",
    "    not_strike_df = batter.data[batter.data['isStrike']==False]\n",
    "    \n",
    "    batter_correct = not_strike_df[not_strike_df['isCorrectDecision']==True]\n",
    "    batter_incorrect = not_strike_df[not_strike_df['isCorrectDecision']==False]\n",
    "    \n",
    "    correct_count = not_strike_df['isCorrectDecision'].value_counts()[True]\n",
    "    incorrect_count = not_strike_df['isCorrectDecision'].value_counts()[False]\n",
    "    \n",
    "    correct_percent = (correct_count / not_strike_df.shape[0] * 100).round(1)\n",
    "    \n",
    "    fig,ax = plt.subplots(figsize=(10,10))\n",
    "    \n",
    "    ax.set_title(f'{batter} - Correct Percent: {correct_percent}')\n",
    "\n",
    "    x = [it[0] for it in (BL,TL,TR,BR,BL)]\n",
    "    y = [it[1] for it in (BL,TL,TR,BR,BL)]\n",
    "\n",
    "    ax.plot(x,y,color='k')\n",
    "\n",
    "    ax.plot([batter.sz_left,batter.sz_right],[batter.sz_mid_btm,batter.sz_mid_btm],color='k',alpha=.5)\n",
    "    ax.plot([batter.sz_left,batter.sz_right],[batter.sz_mid_top,batter.sz_mid_top],color='k',alpha=.5)\n",
    "\n",
    "    ax.plot([batter.sz_mid_left,batter.sz_mid_left],[batter.sz_top,batter.sz_btm],color='k',alpha=.5)\n",
    "    ax.plot([batter.sz_mid_right,batter.sz_mid_right],[batter.sz_top,batter.sz_btm],color='k',alpha=.5)\n",
    "\n",
    "    ax.scatter(batter_correct['norm_plate_x'],batter_correct['plate_z'],color='tab:blue',alpha=.3)\n",
    "    ax.scatter(batter_incorrect['norm_plate_x'],batter_incorrect['plate_z'],color='tab:red',alpha=.3)\n",
    "\n",
    "    ax.grid()\n",
    "\n",
    "    ax.set_xlim(-3,3)\n",
    "    ax.set_ylim(0,6)\n",
    "    plt.show()"
   ]
  },
  {
   "cell_type": "code",
   "execution_count": null,
   "metadata": {
    "scrolled": true
   },
   "outputs": [],
   "source": [
    "for batter in batters[:12]:\n",
    "    \n",
    "    BL = (-1,-1)\n",
    "    TL = (-1,1)\n",
    "    TR = (1,1)\n",
    "    BR = (1,-1)\n",
    "    \n",
    "    not_strike_df = batter.data[batter.data['isStrike']==False]\n",
    "    \n",
    "    batter_correct = not_strike_df[not_strike_df['isCorrectDecision']==True]\n",
    "    batter_incorrect = not_strike_df[not_strike_df['isCorrectDecision']==False]\n",
    "    \n",
    "    correct_count = not_strike_df['isCorrectDecision'].value_counts()[True]\n",
    "    incorrect_count = not_strike_df['isCorrectDecision'].value_counts()[False]\n",
    "    \n",
    "    correct_percent = (correct_count / not_strike_df.shape[0] * 100).round(1)\n",
    "    \n",
    "    fig,ax = plt.subplots(figsize=(10,10))\n",
    "    \n",
    "    ax.set_title(f'{batter} - Correct Percent: {correct_percent}')\n",
    "\n",
    "    x = [it[0] for it in (BL,TL,TR,BR,BL)]\n",
    "    y = [it[1] for it in (BL,TL,TR,BR,BL)]\n",
    "\n",
    "    ax.plot(x,y,color='k')\n",
    "\n",
    "    # Horizontals\n",
    "    ax.plot([-1,1],[0.333,0.333],color='k',alpha=.5)\n",
    "    ax.plot([-1,1],[-0.333,0.-.333],color='k',alpha=.5)\n",
    "\n",
    "    # Verticals\n",
    "    ax.plot([-0.333,-0.333],[1,-1],color='k',alpha=.5)\n",
    "    ax.plot([0.333,0.333],[1,-1],color='k',alpha=.5)\n",
    "\n",
    "    ax.scatter(batter_correct['prop_plate_x'],batter_correct['prop_plate_z'],color='tab:blue',alpha=.3)\n",
    "    ax.scatter(batter_incorrect['prop_plate_x'],batter_incorrect['prop_plate_z'],color='tab:red',alpha=.3)\n",
    "\n",
    "    ax.grid()\n",
    "\n",
    "    ax.set_xlim(-3,3)\n",
    "    ax.set_ylim(-3,3)\n",
    "    plt.show()"
   ]
  },
  {
   "cell_type": "code",
   "execution_count": null,
   "metadata": {},
   "outputs": [],
   "source": [
    "_dfs = []\n",
    "for batter in batters:\n",
    "    _df = batter.data\n",
    "    _dfs.append(_df)"
   ]
  },
  {
   "cell_type": "code",
   "execution_count": null,
   "metadata": {},
   "outputs": [],
   "source": [
    "merged_df = pd.concat(_dfs)"
   ]
  },
  {
   "cell_type": "code",
   "execution_count": null,
   "metadata": {},
   "outputs": [],
   "source": [
    "incorrect_df = merged_df[(merged_df['isCorrectDecision']==False)]"
   ]
  },
  {
   "cell_type": "code",
   "execution_count": null,
   "metadata": {},
   "outputs": [],
   "source": [
    "outside_df = merged_df[merged_df['isStrike']==False]"
   ]
  },
  {
   "cell_type": "code",
   "execution_count": null,
   "metadata": {},
   "outputs": [],
   "source": [
    "incorrect_outside_df = merged_df[(merged_df['isCorrectDecision']==False) & (merged_df['isStrike']==False)]"
   ]
  },
  {
   "cell_type": "code",
   "execution_count": null,
   "metadata": {},
   "outputs": [],
   "source": [
    "incorrect_df.shape"
   ]
  },
  {
   "cell_type": "code",
   "execution_count": null,
   "metadata": {},
   "outputs": [],
   "source": [
    "incorrect_outside_df.shape"
   ]
  },
  {
   "cell_type": "code",
   "execution_count": null,
   "metadata": {},
   "outputs": [],
   "source": [
    "outside_df.shape"
   ]
  },
  {
   "cell_type": "code",
   "execution_count": null,
   "metadata": {},
   "outputs": [],
   "source": [
    "incorrect_df.keys()"
   ]
  },
  {
   "cell_type": "code",
   "execution_count": null,
   "metadata": {},
   "outputs": [],
   "source": [
    "fig,ax = plt.subplots(figsize=(8,6))\n",
    "\n",
    "incorrect_outside_counts, bins, _ = ax.hist(incorrect_outside_df['dist_to_zone'].values,bins=100,range=(0,3))\n",
    "\n",
    "ax.set_xlim(0,3)\n",
    "\n",
    "plt.show()"
   ]
  },
  {
   "cell_type": "code",
   "execution_count": null,
   "metadata": {},
   "outputs": [],
   "source": [
    "fig,ax = plt.subplots(figsize=(8,6))\n",
    "\n",
    "outside_counts, bins, _ = ax.hist(outside_df['dist_to_zone'].values,bins=100,range=(0,3))\n",
    "\n",
    "ax.set_xlim(0,3)\n",
    "\n",
    "plt.show()"
   ]
  },
  {
   "cell_type": "code",
   "execution_count": null,
   "metadata": {},
   "outputs": [],
   "source": [
    "fig,ax = plt.subplots(figsize=(8,6))\n",
    "\n",
    "ax.plot(bins[:-1],incorrect_outside_counts/outside_counts)\n",
    "\n",
    "plt.show()"
   ]
  },
  {
   "cell_type": "code",
   "execution_count": null,
   "metadata": {},
   "outputs": [],
   "source": [
    "x = np.arange(-3,3.01,.1).round(2)"
   ]
  },
  {
   "cell_type": "code",
   "execution_count": null,
   "metadata": {},
   "outputs": [],
   "source": [
    "z = np.arange(3,-3.01,-.1).round(2)"
   ]
  },
  {
   "cell_type": "code",
   "execution_count": null,
   "metadata": {
    "scrolled": true
   },
   "outputs": [],
   "source": [
    "rows = []\n",
    "for i in np.arange(len(z)-1):\n",
    "    row = []\n",
    "    for j in np.arange(len(x)-1):\n",
    "        _df = merged_df[(merged_df['prop_plate_z'] < z[i]) & (merged_df['prop_plate_z'] >= z[i+1]) & (\n",
    "            merged_df['prop_plate_x'] > x[j]) & (merged_df['prop_plate_x'] <= x[j+1])]\n",
    "        \n",
    "        isCorrectDecision = (_df['isCorrectDecision'].values).astype(int)\n",
    "        if len(isCorrectDecision) == 0:\n",
    "            row.append(1)\n",
    "        else:\n",
    "            correct_percent = sum(isCorrectDecision) / len(isCorrectDecision)\n",
    "            row.append(correct_percent)\n",
    "    rows.append(row)\n",
    "rows=np.array(rows)"
   ]
  },
  {
   "cell_type": "code",
   "execution_count": null,
   "metadata": {},
   "outputs": [],
   "source": [
    "rows=np.array(rows)"
   ]
  },
  {
   "cell_type": "code",
   "execution_count": null,
   "metadata": {},
   "outputs": [],
   "source": [
    "fig,ax = plt.subplots(figsize=(8,8))\n",
    "\n",
    "hm = ax.imshow(rows*100,cmap='RdYlGn')\n",
    "ax.plot([19.5,19.5,39.5,39.5,19.5],[19.5,39.5,39.5,19.5,19.5],color='k')\n",
    "\n",
    "ax.plot([18.5,18.5,40.5,40.5,18.5],[14.5,24.5,24.5,14.5,14.5],color='c')\n",
    "\n",
    "axmin = -.5\n",
    "axmax = 59.5\n",
    "\n",
    "axticks = np.arange(axmin,axmax+.1,10)\n",
    "xlabels = np.arange(-3,3.01,1)\n",
    "zlabels = np.arange(3,-3.01,-1)\n",
    "\n",
    "ax.set_xticks(axticks)\n",
    "ax.set_yticks(axticks)\n",
    "\n",
    "ax.set_xticklabels(xlabels)\n",
    "ax.set_yticklabels(zlabels)\n",
    "\n",
    "fig.colorbar(hm)\n",
    "\n",
    "plt.show()"
   ]
  },
  {
   "cell_type": "code",
   "execution_count": null,
   "metadata": {},
   "outputs": [],
   "source": []
  }
 ],
 "metadata": {
  "kernelspec": {
   "display_name": "Python 3",
   "language": "python",
   "name": "python3"
  },
  "language_info": {
   "codemirror_mode": {
    "name": "ipython",
    "version": 3
   },
   "file_extension": ".py",
   "mimetype": "text/x-python",
   "name": "python",
   "nbconvert_exporter": "python",
   "pygments_lexer": "ipython3",
   "version": "3.7.3"
  }
 },
 "nbformat": 4,
 "nbformat_minor": 4
}
